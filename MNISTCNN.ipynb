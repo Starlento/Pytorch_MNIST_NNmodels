{
 "cells": [
  {
   "cell_type": "code",
   "execution_count": 1,
   "metadata": {},
   "outputs": [],
   "source": [
    "import torch\n",
    "import numpy as np\n",
    "import torch.nn as nn\n",
    "import torch.nn.functional as F\n",
    "import torch.optim as optim\n",
    "from torchvision import datasets, transforms"
   ]
  },
  {
   "cell_type": "markdown",
   "metadata": {},
   "source": [
    "# Define Model"
   ]
  },
  {
   "cell_type": "code",
   "execution_count": 33,
   "metadata": {},
   "outputs": [],
   "source": [
    "class SimpleCNN(nn.Module):\n",
    "    def __init__(self):\n",
    "        super(SimpleCNN, self).__init__()\n",
    "        self.conv1 = nn.Conv2d(1, 20, 5, 1)\n",
    "        self.conv2 = nn.Conv2d(20, 50, 5, 1)\n",
    "        self.fc1 = nn.Linear(4*4*50, 500)\n",
    "        self.fc2 = nn.Linear(500, 10)\n",
    "    \n",
    "    def forward(self, x):\n",
    "        x = F.relu(self.conv1(x))\n",
    "        x = F.max_pool2d(x, 2, 2)\n",
    "        x = F.relu(self.conv2(x))\n",
    "        x = F.max_pool2d(x, 2, 2)\n",
    "        x = x.view(-1, 4*4*50)\n",
    "        x = F.relu(self.fc1(x))\n",
    "        x = self.fc2(x)\n",
    "        return F.log_softmax(x, dim=1)"
   ]
  },
  {
   "cell_type": "markdown",
   "metadata": {},
   "source": [
    "# Get MNIST and transform it to tensor"
   ]
  },
  {
   "cell_type": "code",
   "execution_count": 3,
   "metadata": {},
   "outputs": [],
   "source": [
    "mnist_data =datasets.MNIST(\"./mnist_data\", train=True, download=True,\n",
    "                          transform=transforms.Compose([\n",
    "                              transforms.ToTensor(),\n",
    "                          ]))"
   ]
  },
  {
   "cell_type": "markdown",
   "metadata": {},
   "source": [
    "# Get mean and std for normalizing data"
   ]
  },
  {
   "cell_type": "code",
   "execution_count": 4,
   "metadata": {},
   "outputs": [],
   "source": [
    "data = [d[0].data.cpu().numpy() for d in mnist_data]"
   ]
  },
  {
   "cell_type": "code",
   "execution_count": 5,
   "metadata": {},
   "outputs": [
    {
     "data": {
      "text/plain": [
       "0.13066062"
      ]
     },
     "execution_count": 5,
     "metadata": {},
     "output_type": "execute_result"
    }
   ],
   "source": [
    "np.mean(data)"
   ]
  },
  {
   "cell_type": "code",
   "execution_count": 6,
   "metadata": {},
   "outputs": [
    {
     "data": {
      "text/plain": [
       "0.30810776"
      ]
     },
     "execution_count": 6,
     "metadata": {},
     "output_type": "execute_result"
    }
   ],
   "source": [
    "np.std(data)"
   ]
  },
  {
   "cell_type": "code",
   "execution_count": 7,
   "metadata": {},
   "outputs": [
    {
     "data": {
      "text/plain": [
       "torch.Size([1, 28, 28])"
      ]
     },
     "execution_count": 7,
     "metadata": {},
     "output_type": "execute_result"
    }
   ],
   "source": [
    "mnist_data[0][0].shape"
   ]
  },
  {
   "cell_type": "markdown",
   "metadata": {},
   "source": [
    "# train and trainloader"
   ]
  },
  {
   "cell_type": "code",
   "execution_count": 8,
   "metadata": {},
   "outputs": [],
   "source": [
    "device = torch.device(\"cuda\" if torch.cuda.is_available() else \"cpu\")\n",
    "batch_size = 32\n",
    "train_dataloader = torch.utils.data.DataLoader(\n",
    "    datasets.MNIST(\"./mnist_data\", train=True, download=True,\n",
    "                          transform=transforms.Compose([\n",
    "                              transforms.ToTensor(),\n",
    "                              transforms.Normalize((0.1307,), (0.3081,))\n",
    "                          ])),\n",
    "    batch_size=batch_size, shuffle=True,\n",
    "    num_workers=1, pin_memory=True\n",
    ")"
   ]
  },
  {
   "cell_type": "code",
   "execution_count": 14,
   "metadata": {},
   "outputs": [],
   "source": [
    "def train(model, device, train_loader, optimizer, epoch):\n",
    "    model.train()\n",
    "    for idx, (data, target) in enumerate(train_loader):\n",
    "        data, target = data.to(device), target.to(device)\n",
    "        \n",
    "        pred = model(data)\n",
    "        loss = F.nll_loss(pred, target)\n",
    "        \n",
    "        optimizer.zero_grad()\n",
    "        loss.backward()\n",
    "        optimizer.step()\n",
    "        \n",
    "        if idx % 100 == 0:\n",
    "            print(\"Train Epoch:{},iteration:{},loss:{}\".format(\n",
    "                epoch, idx, loss.item()))"
   ]
  },
  {
   "cell_type": "markdown",
   "metadata": {},
   "source": [
    "# test and testloader"
   ]
  },
  {
   "cell_type": "code",
   "execution_count": 10,
   "metadata": {},
   "outputs": [],
   "source": [
    "test_dataloader = torch.utils.data.DataLoader(\n",
    "    datasets.MNIST(\"./mnist_data\", train=False, download=True,\n",
    "                          transform=transforms.Compose([\n",
    "                              transforms.ToTensor(),\n",
    "                              transforms.Normalize((0.1307,), (0.3081,))\n",
    "                          ])),\n",
    "    batch_size = batch_size, shuffle=True,\n",
    "    num_workers=1, pin_memory=True\n",
    ")"
   ]
  },
  {
   "cell_type": "code",
   "execution_count": 16,
   "metadata": {},
   "outputs": [],
   "source": [
    "def test(model, device, test_loader):\n",
    "    model.eval()\n",
    "    total_loss = 0.\n",
    "    correct = 0.\n",
    "    with torch.no_grad():\n",
    "        for idx, (data, target) in enumerate(test_loader):\n",
    "            data, target= data.to(device), target.to(device)\n",
    "            \n",
    "            output = model(data)\n",
    "            total_loss += F.nll_loss(output, target, reduction=\"sum\").item()\n",
    "            pred = output.argmax(dim=1)\n",
    "            correct += pred.eq(target.view_as(pred)).sum().item()\n",
    "    \n",
    "    total_loss /= len(test_loader.dataset)\n",
    "    correct /= len(test_loader.dataset)\n",
    "    correct *=100\n",
    "    print(\"Test Loss:{},Accuracy:{}\".format(total_loss, correct))"
   ]
  },
  {
   "cell_type": "markdown",
   "metadata": {},
   "source": [
    "# start training"
   ]
  },
  {
   "cell_type": "code",
   "execution_count": 34,
   "metadata": {},
   "outputs": [
    {
     "name": "stdout",
     "output_type": "stream",
     "text": [
      "Train Epoch:0,iteration:0,loss:2.3114089965820312\n",
      "Train Epoch:0,iteration:100,loss:0.3460025191307068\n",
      "Train Epoch:0,iteration:200,loss:0.17810732126235962\n",
      "Train Epoch:0,iteration:300,loss:0.25878429412841797\n",
      "Train Epoch:0,iteration:400,loss:0.21613113582134247\n",
      "Train Epoch:0,iteration:500,loss:0.04941364377737045\n",
      "Train Epoch:0,iteration:600,loss:0.22189849615097046\n",
      "Train Epoch:0,iteration:700,loss:0.10240968316793442\n",
      "Train Epoch:0,iteration:800,loss:0.40712541341781616\n",
      "Train Epoch:0,iteration:900,loss:0.27638140320777893\n",
      "Train Epoch:0,iteration:1000,loss:0.08502998948097229\n",
      "Train Epoch:0,iteration:1100,loss:0.09348072111606598\n",
      "Train Epoch:0,iteration:1200,loss:0.09116894751787186\n",
      "Train Epoch:0,iteration:1300,loss:0.04040426015853882\n",
      "Train Epoch:0,iteration:1400,loss:0.22217920422554016\n",
      "Train Epoch:0,iteration:1500,loss:0.09791646152734756\n",
      "Train Epoch:0,iteration:1600,loss:0.007152751088142395\n",
      "Train Epoch:0,iteration:1700,loss:0.007190421223640442\n",
      "Train Epoch:0,iteration:1800,loss:0.06319309771060944\n",
      "Test Loss:0.06376488165855408,Accuracy:97.89999999999999\n",
      "Train Epoch:1,iteration:0,loss:0.02581562101840973\n",
      "Train Epoch:1,iteration:100,loss:0.05534649267792702\n",
      "Train Epoch:1,iteration:200,loss:0.05602023005485535\n",
      "Train Epoch:1,iteration:300,loss:0.026403382420539856\n",
      "Train Epoch:1,iteration:400,loss:0.17520371079444885\n",
      "Train Epoch:1,iteration:500,loss:0.06751371920108795\n",
      "Train Epoch:1,iteration:600,loss:0.05363848805427551\n",
      "Train Epoch:1,iteration:700,loss:0.11845207959413528\n",
      "Train Epoch:1,iteration:800,loss:0.123223215341568\n",
      "Train Epoch:1,iteration:900,loss:0.009355023503303528\n",
      "Train Epoch:1,iteration:1000,loss:0.24056753516197205\n",
      "Train Epoch:1,iteration:1100,loss:0.0920727476477623\n",
      "Train Epoch:1,iteration:1200,loss:0.05571630597114563\n",
      "Train Epoch:1,iteration:1300,loss:0.09282273054122925\n",
      "Train Epoch:1,iteration:1400,loss:0.09151957929134369\n",
      "Train Epoch:1,iteration:1500,loss:0.11919069290161133\n",
      "Train Epoch:1,iteration:1600,loss:0.013445407152175903\n",
      "Train Epoch:1,iteration:1700,loss:0.017966002225875854\n",
      "Train Epoch:1,iteration:1800,loss:0.008311063051223755\n",
      "Test Loss:0.04856781632900238,Accuracy:98.39\n"
     ]
    }
   ],
   "source": [
    "lr = 0.01\n",
    "momentum = 0.5\n",
    "model = SimpleCNN().to(device)\n",
    "optimizer = torch.optim.SGD(model.parameters(), lr=lr, momentum=momentum)\n",
    "num_epochs = 2\n",
    "for epoch in range(num_epochs):\n",
    "    train(model, device, train_dataloader, optimizer, epoch)\n",
    "    test(model, device, test_dataloader)\n",
    "\n",
    "torch.save(model.state_dict(), \"mnist_cnn.pt\")"
   ]
  },
  {
   "cell_type": "code",
   "execution_count": null,
   "metadata": {},
   "outputs": [],
   "source": []
  }
 ],
 "metadata": {
  "kernelspec": {
   "display_name": "Python [conda env:pytorch] *",
   "language": "python",
   "name": "conda-env-pytorch-py"
  },
  "language_info": {
   "codemirror_mode": {
    "name": "ipython",
    "version": 3
   },
   "file_extension": ".py",
   "mimetype": "text/x-python",
   "name": "python",
   "nbconvert_exporter": "python",
   "pygments_lexer": "ipython3",
   "version": "3.7.5"
  }
 },
 "nbformat": 4,
 "nbformat_minor": 2
}
