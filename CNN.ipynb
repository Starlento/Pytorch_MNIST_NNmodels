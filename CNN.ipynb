{
 "cells": [
  {
   "cell_type": "code",
   "execution_count": 1,
   "metadata": {},
   "outputs": [],
   "source": [
    "import torch\n",
    "import numpy as np\n",
    "import torch.nn as nn\n",
    "import torch.nn.functional as F\n",
    "import torch.optim as optim\n",
    "from torchvision import datasets, transforms"
   ]
  },
  {
   "cell_type": "code",
   "execution_count": 2,
   "metadata": {},
   "outputs": [
    {
     "data": {
      "text/plain": [
       "True"
      ]
     },
     "execution_count": 2,
     "metadata": {},
     "output_type": "execute_result"
    }
   ],
   "source": [
    "torch.cuda.is_available()"
   ]
  },
  {
   "cell_type": "markdown",
   "metadata": {},
   "source": [
    "# Define Model"
   ]
  },
  {
   "cell_type": "code",
   "execution_count": 3,
   "metadata": {},
   "outputs": [],
   "source": [
    "class SimpleCNN(nn.Module):\n",
    "    def __init__(self):\n",
    "        super(SimpleCNN, self).__init__()\n",
    "        self.conv1 = nn.Conv2d(1, 20, 5, 1)\n",
    "        self.conv2 = nn.Conv2d(20, 50, 5, 1)\n",
    "        self.fc1 = nn.Linear(4*4*50, 500)\n",
    "        self.fc2 = nn.Linear(500, 10)\n",
    "    \n",
    "    def forward(self, x):\n",
    "        x = F.relu(self.conv1(x))\n",
    "        x = F.max_pool2d(x, 2, 2)\n",
    "        x = F.relu(self.conv2(x))\n",
    "        x = F.max_pool2d(x, 2, 2)\n",
    "        x = x.view(-1, 4*4*50)\n",
    "        x = F.relu(self.fc1(x))\n",
    "        x = self.fc2(x)\n",
    "        return F.log_softmax(x, dim=1)"
   ]
  },
  {
   "cell_type": "markdown",
   "metadata": {},
   "source": [
    "# Get MNIST and transform it to tensor"
   ]
  },
  {
   "cell_type": "code",
   "execution_count": 4,
   "metadata": {},
   "outputs": [],
   "source": [
    "mnist_data =datasets.MNIST(\"./mnist_data\", train=True, download=True,\n",
    "                          transform=transforms.Compose([\n",
    "                              transforms.ToTensor(),\n",
    "                          ]))"
   ]
  },
  {
   "cell_type": "markdown",
   "metadata": {},
   "source": [
    "# Get mean and std for normalizing data"
   ]
  },
  {
   "cell_type": "code",
   "execution_count": 5,
   "metadata": {},
   "outputs": [],
   "source": [
    "data = [d[0].data.cpu().numpy() for d in mnist_data]"
   ]
  },
  {
   "cell_type": "code",
   "execution_count": 6,
   "metadata": {},
   "outputs": [
    {
     "data": {
      "text/plain": [
       "0.13066062"
      ]
     },
     "execution_count": 6,
     "metadata": {},
     "output_type": "execute_result"
    }
   ],
   "source": [
    "np.mean(data)"
   ]
  },
  {
   "cell_type": "code",
   "execution_count": 7,
   "metadata": {},
   "outputs": [
    {
     "data": {
      "text/plain": [
       "0.30810776"
      ]
     },
     "execution_count": 7,
     "metadata": {},
     "output_type": "execute_result"
    }
   ],
   "source": [
    "np.std(data)"
   ]
  },
  {
   "cell_type": "code",
   "execution_count": 8,
   "metadata": {},
   "outputs": [
    {
     "data": {
      "text/plain": [
       "torch.Size([1, 28, 28])"
      ]
     },
     "execution_count": 8,
     "metadata": {},
     "output_type": "execute_result"
    }
   ],
   "source": [
    "mnist_data[0][0].shape"
   ]
  },
  {
   "cell_type": "markdown",
   "metadata": {},
   "source": [
    "# train and trainloader"
   ]
  },
  {
   "cell_type": "code",
   "execution_count": 9,
   "metadata": {},
   "outputs": [],
   "source": [
    "device = torch.device(\"cuda\" if torch.cuda.is_available() else \"cpu\")\n",
    "batch_size = 32\n",
    "train_dataloader = torch.utils.data.DataLoader(\n",
    "    datasets.MNIST(\"./mnist_data\", train=True, download=True,\n",
    "                          transform=transforms.Compose([\n",
    "                              transforms.ToTensor(),\n",
    "                              transforms.Normalize((0.1307,), (0.3081,))\n",
    "                          ])),\n",
    "    batch_size=batch_size, shuffle=True,\n",
    "    num_workers=1, pin_memory=True\n",
    ")"
   ]
  },
  {
   "cell_type": "code",
   "execution_count": 10,
   "metadata": {},
   "outputs": [],
   "source": [
    "def train(model, device, train_loader, optimizer, epoch):\n",
    "    model.train()\n",
    "    for idx, (data, target) in enumerate(train_loader):\n",
    "        data, target = data.to(device), target.to(device)\n",
    "        \n",
    "        pred = model(data)\n",
    "        loss = F.nll_loss(pred, target)\n",
    "        \n",
    "        optimizer.zero_grad()\n",
    "        loss.backward()\n",
    "        optimizer.step()\n",
    "        \n",
    "        if idx % 100 == 0:\n",
    "            print(\"Train Epoch:{},iteration:{},loss:{}\".format(\n",
    "                epoch, idx, loss.item()))"
   ]
  },
  {
   "cell_type": "markdown",
   "metadata": {},
   "source": [
    "# test and testloader"
   ]
  },
  {
   "cell_type": "code",
   "execution_count": 11,
   "metadata": {},
   "outputs": [],
   "source": [
    "test_dataloader = torch.utils.data.DataLoader(\n",
    "    datasets.MNIST(\"./mnist_data\", train=False, download=True,\n",
    "                          transform=transforms.Compose([\n",
    "                              transforms.ToTensor(),\n",
    "                              transforms.Normalize((0.1307,), (0.3081,))\n",
    "                          ])),\n",
    "    batch_size = batch_size, shuffle=True,\n",
    "    num_workers=1, pin_memory=True\n",
    ")"
   ]
  },
  {
   "cell_type": "code",
   "execution_count": 12,
   "metadata": {},
   "outputs": [],
   "source": [
    "def test(model, device, test_loader):\n",
    "    model.eval()\n",
    "    total_loss = 0.\n",
    "    correct = 0.\n",
    "    with torch.no_grad():\n",
    "        for idx, (data, target) in enumerate(test_loader):\n",
    "            data, target= data.to(device), target.to(device)\n",
    "            \n",
    "            output = model(data)\n",
    "            total_loss += F.nll_loss(output, target, reduction=\"sum\").item()\n",
    "            pred = output.argmax(dim=1)\n",
    "            correct += pred.eq(target.view_as(pred)).sum().item()\n",
    "    \n",
    "    total_loss /= len(test_loader.dataset)\n",
    "    correct /= len(test_loader.dataset)\n",
    "    correct *=100\n",
    "    print(\"Test Loss:{},Accuracy:{}\".format(total_loss, correct))"
   ]
  },
  {
   "cell_type": "markdown",
   "metadata": {},
   "source": [
    "# start training"
   ]
  },
  {
   "cell_type": "code",
   "execution_count": 13,
   "metadata": {
    "scrolled": true
   },
   "outputs": [
    {
     "name": "stdout",
     "output_type": "stream",
     "text": [
      "Train Epoch:0,iteration:0,loss:2.3152196407318115\n",
      "Train Epoch:0,iteration:100,loss:0.5453699231147766\n",
      "Train Epoch:0,iteration:200,loss:0.5433946847915649\n",
      "Train Epoch:0,iteration:300,loss:0.26843759417533875\n",
      "Train Epoch:0,iteration:400,loss:0.13524985313415527\n",
      "Train Epoch:0,iteration:500,loss:0.02315583825111389\n",
      "Train Epoch:0,iteration:600,loss:0.11395902186632156\n",
      "Train Epoch:0,iteration:700,loss:0.08387188613414764\n",
      "Train Epoch:0,iteration:800,loss:0.020369186997413635\n",
      "Train Epoch:0,iteration:900,loss:0.15831927955150604\n",
      "Train Epoch:0,iteration:1000,loss:0.09242847561836243\n",
      "Train Epoch:0,iteration:1100,loss:0.03348933160305023\n",
      "Train Epoch:0,iteration:1200,loss:0.019382432103157043\n",
      "Train Epoch:0,iteration:1300,loss:0.170950785279274\n",
      "Train Epoch:0,iteration:1400,loss:0.09010143578052521\n",
      "Train Epoch:0,iteration:1500,loss:0.03170490264892578\n",
      "Train Epoch:0,iteration:1600,loss:0.028983280062675476\n",
      "Train Epoch:0,iteration:1700,loss:0.05556999146938324\n",
      "Train Epoch:0,iteration:1800,loss:0.23898854851722717\n",
      "Test Loss:0.059658486819267276,Accuracy:98.14\n",
      "Train Epoch:1,iteration:0,loss:0.0036803781986236572\n",
      "Train Epoch:1,iteration:100,loss:0.2898355722427368\n",
      "Train Epoch:1,iteration:200,loss:0.10474637150764465\n",
      "Train Epoch:1,iteration:300,loss:0.01822623610496521\n",
      "Train Epoch:1,iteration:400,loss:0.0127134770154953\n",
      "Train Epoch:1,iteration:500,loss:0.021475955843925476\n",
      "Train Epoch:1,iteration:600,loss:0.098979651927948\n",
      "Train Epoch:1,iteration:700,loss:0.012616991996765137\n",
      "Train Epoch:1,iteration:800,loss:0.03100152313709259\n",
      "Train Epoch:1,iteration:900,loss:0.07335793972015381\n",
      "Train Epoch:1,iteration:1000,loss:0.07198888063430786\n",
      "Train Epoch:1,iteration:1100,loss:0.040394484996795654\n",
      "Train Epoch:1,iteration:1200,loss:0.07801741361618042\n",
      "Train Epoch:1,iteration:1300,loss:0.030485033988952637\n",
      "Train Epoch:1,iteration:1400,loss:0.09459732472896576\n",
      "Train Epoch:1,iteration:1500,loss:0.2437833547592163\n",
      "Train Epoch:1,iteration:1600,loss:0.0935484915971756\n",
      "Train Epoch:1,iteration:1700,loss:0.10254067182540894\n",
      "Train Epoch:1,iteration:1800,loss:0.06341713666915894\n",
      "Test Loss:0.04800739560127258,Accuracy:98.46000000000001\n"
     ]
    }
   ],
   "source": [
    "lr = 0.01\n",
    "momentum = 0.5\n",
    "model = SimpleCNN().to(device)\n",
    "optimizer = torch.optim.SGD(model.parameters(), lr=lr, momentum=momentum)\n",
    "num_epochs = 2\n",
    "for epoch in range(num_epochs):\n",
    "    train(model, device, train_dataloader, optimizer, epoch)\n",
    "    test(model, device, test_dataloader)\n",
    "\n",
    "torch.save(model.state_dict(), \"mnist_cnn.pt\")"
   ]
  },
  {
   "cell_type": "code",
   "execution_count": null,
   "metadata": {},
   "outputs": [],
   "source": []
  }
 ],
 "metadata": {
  "kernelspec": {
   "display_name": "Python 3",
   "language": "python",
   "name": "python3"
  },
  "language_info": {
   "codemirror_mode": {
    "name": "ipython",
    "version": 3
   },
   "file_extension": ".py",
   "mimetype": "text/x-python",
   "name": "python",
   "nbconvert_exporter": "python",
   "pygments_lexer": "ipython3",
   "version": "3.7.5"
  }
 },
 "nbformat": 4,
 "nbformat_minor": 2
}
