{
 "cells": [
  {
   "cell_type": "code",
   "execution_count": 15,
   "metadata": {},
   "outputs": [],
   "source": [
    "import torch\n",
    "import torch.nn as nn\n",
    "from torch.autograd import Variable\n",
    "from torch.utils.data import DataLoader\n",
    "from torchvision import transforms\n",
    "from torchvision import datasets\n",
    "from torchvision.utils import save_image\n",
    "import os\n",
    "import time"
   ]
  },
  {
   "cell_type": "markdown",
   "metadata": {},
   "source": [
    "# create directory for save result_img"
   ]
  },
  {
   "cell_type": "code",
   "execution_count": 16,
   "metadata": {},
   "outputs": [],
   "source": [
    "if not os.path.exists('./dc_img'):\n",
    "    os.mkdir('./dc_img')"
   ]
  },
  {
   "cell_type": "markdown",
   "metadata": {},
   "source": [
    "# define function to create thumbnail"
   ]
  },
  {
   "cell_type": "code",
   "execution_count": 17,
   "metadata": {},
   "outputs": [],
   "source": [
    "def to_img(x):\n",
    "    out = 0.5 * (x + 1)\n",
    "    out = out.clamp(0, 1)\n",
    "    out = out.view(-1, 1, 28, 28)\n",
    "    return out"
   ]
  },
  {
   "cell_type": "markdown",
   "metadata": {},
   "source": [
    "# initialization"
   ]
  },
  {
   "cell_type": "code",
   "execution_count": 18,
   "metadata": {},
   "outputs": [],
   "source": [
    "batch_size = 128\n",
    "num_epoch = 100\n",
    "z_dimension = 100  # noise dimension\n",
    "\n",
    "device = torch.device(\"cuda\" if torch.cuda.is_available() else \"cpu\")"
   ]
  },
  {
   "cell_type": "code",
   "execution_count": 19,
   "metadata": {},
   "outputs": [],
   "source": [
    "img_transform = transforms.Compose([\n",
    "    transforms.ToTensor(),\n",
    "    transforms.Normalize((0.5, 0.5, 0.5), (0.5, 0.5, 0.5))\n",
    "])"
   ]
  },
  {
   "cell_type": "code",
   "execution_count": 20,
   "metadata": {},
   "outputs": [],
   "source": [
    "# mnist = datasets.MNIST('./mnist_data', transform=img_transform)\n",
    "dataloader = DataLoader( datasets.MNIST(\"./mnist_data\", train=True, download=True,\n",
    "                          transform=transforms.Compose([\n",
    "                              transforms.ToTensor(),\n",
    "#                               transforms.Normalize((0.1307,), (0.3081,))\n",
    "                          ])),\n",
    "    batch_size=batch_size, shuffle=True,\n",
    "    num_workers=4, pin_memory=True)"
   ]
  },
  {
   "cell_type": "markdown",
   "metadata": {},
   "source": [
    "# define models"
   ]
  },
  {
   "cell_type": "code",
   "execution_count": 21,
   "metadata": {},
   "outputs": [],
   "source": [
    "class discriminator(nn.Module):\n",
    "    def __init__(self):\n",
    "        super(discriminator, self).__init__()\n",
    "        self.conv1 = nn.Sequential(\n",
    "            nn.Conv2d(1, 32, 5, padding=2),  # batch, 32, 28, 28\n",
    "            nn.LeakyReLU(0.2, True),\n",
    "            nn.AvgPool2d(2, stride=2),  # batch, 32, 14, 14\n",
    "            )\n",
    "        self.conv2 = nn.Sequential(\n",
    "            nn.Conv2d(32, 64, 5, padding=2),  # batch, 64, 14, 14\n",
    "            nn.LeakyReLU(0.2, True),\n",
    "            nn.AvgPool2d(2, stride=2)  # batch, 64, 7, 7\n",
    "        )\n",
    "        self.fc = nn.Sequential(\n",
    "            nn.Linear(64*7*7, 1024),\n",
    "            nn.LeakyReLU(0.2, True),\n",
    "            nn.Linear(1024, 1),\n",
    "            nn.Sigmoid()\n",
    "        )\n",
    " \n",
    "    def forward(self, x):\n",
    "        '''\n",
    "        x: batch, width, height, channel=1\n",
    "        '''\n",
    "        x = self.conv1(x)\n",
    "        x = self.conv2(x)\n",
    "        x = x.view(x.size(0), -1)\n",
    "        x = self.fc(x)\n",
    "        return x"
   ]
  },
  {
   "cell_type": "code",
   "execution_count": 22,
   "metadata": {},
   "outputs": [],
   "source": [
    "class generator(nn.Module):\n",
    "    def __init__(self, input_size, num_feature):\n",
    "        super(generator, self).__init__()\n",
    "        self.fc = nn.Linear(input_size, num_feature)  # batch, 3136=1x56x56\n",
    "        self.br = nn.Sequential(\n",
    "            nn.BatchNorm2d(1),\n",
    "            nn.ReLU(True)\n",
    "        )\n",
    "        self.downsample1 = nn.Sequential(\n",
    "            nn.Conv2d(1, 50, 3, stride=1, padding=1),  # batch, 50, 56, 56\n",
    "            nn.BatchNorm2d(50),\n",
    "            nn.ReLU(True)\n",
    "        )\n",
    "        self.downsample2 = nn.Sequential(\n",
    "            nn.Conv2d(50, 25, 3, stride=1, padding=1),  # batch, 25, 56, 56\n",
    "            nn.BatchNorm2d(25),\n",
    "            nn.ReLU(True)\n",
    "        )\n",
    "        self.downsample3 = nn.Sequential(\n",
    "            nn.Conv2d(25, 1, 2, stride=2),  # batch, 1, 28, 28\n",
    "            nn.Tanh()\n",
    "        )\n",
    " \n",
    "    def forward(self, x):\n",
    "        x = self.fc(x)\n",
    "        x = x.view(x.size(0), 1, 56, 56)\n",
    "        x = self.br(x)\n",
    "        x = self.downsample1(x)\n",
    "        x = self.downsample2(x)\n",
    "        x = self.downsample3(x)\n",
    "        return x"
   ]
  },
  {
   "cell_type": "code",
   "execution_count": 23,
   "metadata": {},
   "outputs": [],
   "source": [
    "D = discriminator().to(device)  # discriminator model\n",
    "G = generator(z_dimension, 3136).to(device)  # generator model"
   ]
  },
  {
   "cell_type": "markdown",
   "metadata": {},
   "source": [
    "# define optimizer"
   ]
  },
  {
   "cell_type": "code",
   "execution_count": 24,
   "metadata": {},
   "outputs": [],
   "source": [
    "criterion = nn.BCELoss()  # binary cross entropy\n",
    " \n",
    "d_optimizer = torch.optim.Adam(D.parameters(), lr=0.0003)\n",
    "g_optimizer = torch.optim.Adam(G.parameters(), lr=0.0003)"
   ]
  },
  {
   "cell_type": "markdown",
   "metadata": {},
   "source": [
    "# start training"
   ]
  },
  {
   "cell_type": "code",
   "execution_count": null,
   "metadata": {},
   "outputs": [
    {
     "name": "stdout",
     "output_type": "stream",
     "text": [
      "Epoch [0/100], d_loss: 0.104139, g_loss: 3.805350 D real: 0.934160, D fake: 0.029623\n",
      "Epoch [0/100], d_loss: 0.100255, g_loss: 5.486824 D real: 0.960277, D fake: 0.041238\n",
      "Epoch [0/100], d_loss: 0.296275, g_loss: 2.428895 D real: 0.885859, D fake: 0.107381\n",
      "Epoch [0/100], d_loss: 0.356639, g_loss: 3.623286 D real: 0.831749, D fake: 0.073557\n",
      "Epoch[0/100], time_consumed:42.219444\n",
      "Epoch [1/100], d_loss: 0.294025, g_loss: 2.993270 D real: 0.970351, D fake: 0.186456\n",
      "Epoch [1/100], d_loss: 0.203311, g_loss: 5.246939 D real: 0.949593, D fake: 0.100236\n",
      "Epoch [1/100], d_loss: 0.204210, g_loss: 4.913994 D real: 0.922016, D fake: 0.065466\n",
      "Epoch [1/100], d_loss: 0.215171, g_loss: 4.303040 D real: 0.898790, D fake: 0.050127\n",
      "Epoch[1/100], time_consumed:40.402043\n",
      "Epoch [2/100], d_loss: 0.151447, g_loss: 3.929520 D real: 0.963311, D fake: 0.086112\n",
      "Epoch [2/100], d_loss: 0.201356, g_loss: 3.913198 D real: 0.966426, D fake: 0.102792\n",
      "Epoch [2/100], d_loss: 0.161651, g_loss: 4.443675 D real: 0.925859, D fake: 0.031783\n",
      "Epoch [2/100], d_loss: 0.174866, g_loss: 3.031852 D real: 0.938479, D fake: 0.064621\n",
      "Epoch[2/100], time_consumed:40.323063\n",
      "Epoch [3/100], d_loss: 0.179552, g_loss: 3.589076 D real: 0.920965, D fake: 0.032529\n",
      "Epoch [3/100], d_loss: 0.266835, g_loss: 4.713727 D real: 0.902980, D fake: 0.028422\n",
      "Epoch [3/100], d_loss: 0.344244, g_loss: 7.988503 D real: 0.953213, D fake: 0.141804\n",
      "Epoch [3/100], d_loss: 0.170109, g_loss: 3.661138 D real: 0.927381, D fake: 0.043925\n",
      "Epoch[3/100], time_consumed:40.780908\n",
      "Epoch [4/100], d_loss: 0.176449, g_loss: 4.137063 D real: 0.914931, D fake: 0.035922\n",
      "Epoch [4/100], d_loss: 0.201861, g_loss: 2.988127 D real: 0.913755, D fake: 0.023926\n",
      "Epoch [4/100], d_loss: 0.224746, g_loss: 4.979987 D real: 0.953183, D fake: 0.100972\n",
      "Epoch [4/100], d_loss: 0.142053, g_loss: 5.026053 D real: 0.935314, D fake: 0.018615\n",
      "Epoch[4/100], time_consumed:40.637394\n",
      "Epoch [5/100], d_loss: 0.158262, g_loss: 4.842604 D real: 0.977142, D fake: 0.088608\n",
      "Epoch [5/100], d_loss: 0.240548, g_loss: 4.169143 D real: 0.918575, D fake: 0.033770\n",
      "Epoch [5/100], d_loss: 0.254232, g_loss: 4.181231 D real: 0.907308, D fake: 0.032078\n",
      "Epoch [5/100], d_loss: 0.142237, g_loss: 4.503802 D real: 0.959998, D fake: 0.072684\n",
      "Epoch[5/100], time_consumed:40.379691\n",
      "Epoch [6/100], d_loss: 0.245796, g_loss: 3.017603 D real: 0.973694, D fake: 0.165505\n",
      "Epoch [6/100], d_loss: 0.216865, g_loss: 4.328615 D real: 0.936299, D fake: 0.061138\n",
      "Epoch [6/100], d_loss: 0.404888, g_loss: 5.140165 D real: 0.851489, D fake: 0.072669\n",
      "Epoch [6/100], d_loss: 0.202838, g_loss: 4.022192 D real: 0.939541, D fake: 0.087620\n",
      "Epoch[6/100], time_consumed:40.554718\n",
      "Epoch [7/100], d_loss: 0.245843, g_loss: 3.542081 D real: 0.959596, D fake: 0.127283\n",
      "Epoch [7/100], d_loss: 0.239228, g_loss: 4.603715 D real: 0.943044, D fake: 0.088692\n",
      "Epoch [7/100], d_loss: 0.177625, g_loss: 6.391798 D real: 0.950983, D fake: 0.035292\n",
      "Epoch [7/100], d_loss: 0.210128, g_loss: 3.704055 D real: 0.905863, D fake: 0.010651\n",
      "Epoch[7/100], time_consumed:41.000290\n",
      "Epoch [8/100], d_loss: 0.290793, g_loss: 3.749648 D real: 0.923065, D fake: 0.071310\n",
      "Epoch [8/100], d_loss: 0.469944, g_loss: 3.753099 D real: 0.962373, D fake: 0.288091\n",
      "Epoch [8/100], d_loss: 0.401815, g_loss: 3.319191 D real: 0.861245, D fake: 0.035078\n",
      "Epoch [8/100], d_loss: 0.302517, g_loss: 3.390123 D real: 0.862166, D fake: 0.041825\n",
      "Epoch[8/100], time_consumed:41.491676\n",
      "Epoch [9/100], d_loss: 0.495340, g_loss: 4.012544 D real: 0.826998, D fake: 0.022921\n",
      "Epoch [9/100], d_loss: 0.306480, g_loss: 2.799837 D real: 0.898406, D fake: 0.094441\n",
      "Epoch [9/100], d_loss: 0.347492, g_loss: 2.756311 D real: 0.906984, D fake: 0.082142\n",
      "Epoch [9/100], d_loss: 0.276334, g_loss: 2.670262 D real: 0.950958, D fake: 0.156794\n",
      "Epoch[9/100], time_consumed:40.889502\n",
      "Epoch [10/100], d_loss: 0.296381, g_loss: 4.157662 D real: 0.952716, D fake: 0.169589\n",
      "Epoch [10/100], d_loss: 0.292068, g_loss: 3.377133 D real: 0.924704, D fake: 0.116538\n",
      "Epoch [10/100], d_loss: 0.328202, g_loss: 3.461137 D real: 0.880906, D fake: 0.050747\n",
      "Epoch [10/100], d_loss: 0.262817, g_loss: 4.925533 D real: 0.964021, D fake: 0.146392\n",
      "Epoch[10/100], time_consumed:41.208484\n"
     ]
    }
   ],
   "source": [
    "for epoch in range(num_epoch):\n",
    "    since = time.time()\n",
    "    for i, (data, target) in enumerate(dataloader):\n",
    "        num_img = data.size(0)\n",
    "        data, target = data.to(device), target.to(device)\n",
    "        \n",
    "        real_label = torch.ones(num_img, 1).to(device)\n",
    "        fake_label = torch.zeros(num_img, 1).to(device)\n",
    "\n",
    "        pred_real = D(data)\n",
    "        d_loss_real = criterion(pred_real, real_label)\n",
    "        real_scores = pred_real  # closer to 1 means better\n",
    " \n",
    "        # compute loss of fake_img\n",
    "        z = torch.randn(num_img, z_dimension).to(device)\n",
    "        fake_data = G(z)\n",
    "        pred_fake = D(fake_data)\n",
    "        d_loss_fake = criterion(pred_fake, fake_label)\n",
    "        fake_scores = pred_fake  # closer to 0 means better\n",
    " \n",
    "        # bp and optimize\n",
    "        d_loss = d_loss_real + d_loss_fake\n",
    "        d_optimizer.zero_grad()\n",
    "        d_loss.backward()\n",
    "        d_optimizer.step()\n",
    " \n",
    "        # ===============train generator\n",
    "        # compute loss of fake_img\n",
    "        z = torch.randn(num_img, z_dimension).to(device)\n",
    "        fake_img = G(z)\n",
    "        output = D(fake_img)\n",
    "        g_loss = criterion(output, real_label)\n",
    " \n",
    "        # bp and optimize\n",
    "        g_optimizer.zero_grad()\n",
    "        g_loss.backward()\n",
    "        g_optimizer.step()\n",
    " \n",
    "        if (i+1) % 100 == 0:\n",
    "            print('Epoch [{}/{}], d_loss: {:.6f}, g_loss: {:.6f} '\n",
    "                  'D real: {:.6f}, D fake: {:.6f}'\n",
    "                  .format(epoch, num_epoch, d_loss.item(), g_loss.item(),\n",
    "                          real_scores.data.mean(), fake_scores.data.mean()))\n",
    "    print('Epoch[{}/100], time_consumed:{:.6f}'.format(epoch,time.time()-since))\n",
    "    if epoch == 0:\n",
    "        real_images = to_img(data.cpu().data)\n",
    "        save_image(real_images, './dc_img/real_images.png')\n",
    "    \n",
    "    fake_images = to_img(fake_data.cpu().data)\n",
    "    save_image(fake_images, './dc_img/fake_images-{}.png'.format(epoch+1))"
   ]
  },
  {
   "cell_type": "code",
   "execution_count": null,
   "metadata": {},
   "outputs": [],
   "source": []
  }
 ],
 "metadata": {
  "kernelspec": {
   "display_name": "Python 3",
   "language": "python",
   "name": "python3"
  },
  "language_info": {
   "codemirror_mode": {
    "name": "ipython",
    "version": 3
   },
   "file_extension": ".py",
   "mimetype": "text/x-python",
   "name": "python",
   "nbconvert_exporter": "python",
   "pygments_lexer": "ipython3",
   "version": "3.7.4"
  }
 },
 "nbformat": 4,
 "nbformat_minor": 2
}
